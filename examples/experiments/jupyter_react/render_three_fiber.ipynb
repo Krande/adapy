{
 "cells": [
  {
   "cell_type": "code",
   "execution_count": null,
   "metadata": {},
   "outputs": [],
   "source": [
    "%load_ext ipyreact"
   ]
  },
  {
   "cell_type": "code",
   "execution_count": null,
   "metadata": {},
   "outputs": [],
   "source": [
    "%%react\n",
    "\n",
    "import React, {useRef, useState} from \"react\"\n",
    "import {Mesh, Canvas, useFrame, useThree } from 'https://esm.sh/@react-three/fiber@8.13.0'\n",
    "import {OrbitControls} from \"https://esm.sh/@react-three/drei@9.68.6\";\n",
    "\n",
    "function Box({position, color}) {\n",
    "  const ref = useRef()\n",
    "  useFrame(() => (ref.current.rotation.x = ref.current.rotation.y += 0.01))\n",
    "\n",
    "  return (\n",
    "    <mesh position={position} ref={ref}>\n",
    "      <boxBufferGeometry args={[1, 1, 1]} attach=\"geometry\" />\n",
    "      <meshPhongMaterial color={color} attach=\"material\" />\n",
    "    </mesh>\n",
    "  )\n",
    "}\n",
    "\n",
    "function App() {\n",
    "  return (\n",
    "      </>\n",
    "    \n",
    "    <Canvas>\n",
    "      <Box color=\"#18a36e\" position={[-1, 0, 3]} />\n",
    "      <Box color=\"#f56f42\" position={[1, 0, 3]} />\n",
    "      <directionalLight color=\"#ffffff\" intensity={1} position={[-1, 2, 4]} />\n",
    "    </Canvas>\n",
    "    </>\n",
    "  )\n",
    "}\n",
    "\n",
    "export default App"
   ]
  },
  {
   "cell_type": "code",
   "execution_count": null,
   "metadata": {},
   "outputs": [],
   "source": [
    "%%react\n",
    "\n",
    "import React, {useRef, useState} from \"react\"\n",
    "import {Mesh, Canvas, useFrame, useThree} from 'https://esm.sh/@react-three/fiber@8.13.0'\n",
    "import {OrbitControls} from \"https://esm.sh/@react-three/drei@9.68.6\";\n",
    "\n",
    "\n",
    "export function Viewer() {\n",
    "    return (\n",
    "        <div className={\"relative flex\"}>\n",
    "            <div className={\"absolute w-full h-full\"}>\n",
    "                <Canvas>\n",
    "                    <Cube/>\n",
    "                    <ambientLight/>\n",
    "                    {/* eslint-disable-next-line react/no-unknown-property */}\n",
    "                    <pointLight position={[10, 10, 10]}/>\n",
    "                </Canvas>\n",
    "            </div>\n",
    "        </div>\n",
    "    );\n",
    "}\n",
    "\n",
    "function Cube(props: any) {\n",
    "    const mesh = useRef<Mesh>(null);\n",
    "\n",
    "    const [hovered, setHover] = useState(false);\n",
    "    const [active, setActive] = useState(false);\n",
    "    const {viewport} = useThree();\n",
    "    useFrame(() => {\n",
    "        if (mesh.current) {\n",
    "            mesh.current.rotation.x = mesh.current.rotation.y += 0.01;\n",
    "        }\n",
    "    });\n",
    "    return (\n",
    "        <mesh\n",
    "            {...props}\n",
    "            ref={mesh}\n",
    "            scale={(viewport.width / 5) * (active ? 1.5 : 1)}\n",
    "            onClick={() => setActive(!active)}\n",
    "            onPointerOver={() => setHover(true)}\n",
    "            onPointerOut={() => setHover(false)}\n",
    "        >\n",
    "            <boxGeometry/>\n",
    "            <meshStandardMaterial color={hovered ? \"hotpink\" : \"orange\"}/>\n",
    "        </mesh>\n",
    "    );\n",
    "}\n",
    "\n",
    "\n",
    "export default Viewer\n"
   ]
  },
  {
   "cell_type": "code",
   "execution_count": 5,
   "metadata": {},
   "outputs": [
    {
     "data": {
      "application/vnd.jupyter.widget-view+json": {
       "model_id": "d283906d4cfb40109d3dc6944faaaa81",
       "version_major": 2,
       "version_minor": 0
      },
      "text/plain": [
       "ThreeFiberWidget()"
      ]
     },
     "execution_count": 5,
     "metadata": {},
     "output_type": "execute_result"
    }
   ],
   "source": [
    "import ipyreact\n",
    "import pathlib\n",
    "\n",
    "\n",
    "class ThreeFiberWidget(ipyreact.ReactWidget):\n",
    "    _esm = pathlib.Path(\"react-fiber.tsx\")\n",
    "\n",
    "\n",
    "widget = ThreeFiberWidget()\n",
    "widget"
   ]
  },
  {
   "cell_type": "code",
   "execution_count": null,
   "metadata": {},
   "outputs": [],
   "source": [
    "widget.value"
   ]
  }
 ],
 "metadata": {
  "kernelspec": {
   "display_name": "Python 3 (ipykernel)",
   "language": "python",
   "name": "python3"
  },
  "language_info": {
   "codemirror_mode": {
    "name": "ipython",
    "version": 3
   },
   "file_extension": ".py",
   "mimetype": "text/x-python",
   "name": "python",
   "nbconvert_exporter": "python",
   "pygments_lexer": "ipython3",
   "version": "3.11.3"
  }
 },
 "nbformat": 4,
 "nbformat_minor": 4
}
