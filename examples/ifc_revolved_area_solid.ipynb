{
 "cells": [
  {
   "cell_type": "markdown",
   "metadata": {},
   "source": [
    "# Understanding IfcRevolvedAreaSolid\n",
    "\n"
   ]
  },
  {
   "cell_type": "code",
   "execution_count": null,
   "metadata": {},
   "outputs": [],
   "source": [
    "import ada\n",
    "from ada.core.constants import X, Y, Z, O\n",
    "from ada.core.curve_utils import get_center_from_3_points_and_radius\n",
    "from ada.core.vector_utils import unit_vector, normal_to_points_in_plane, transform3d, EquationOfPlane, calc_yvec\n",
    "from ada.core.utils import roundoff\n",
    "from ada.occ.utils import make_eq_plane_object\n",
    "import numpy as np"
   ]
  },
  {
   "cell_type": "code",
   "execution_count": null,
   "metadata": {},
   "outputs": [],
   "source": [
    "def pipe_w_multiple_bends() -> ada.Pipe:\n",
    "    z = 3.2\n",
    "    y0 = -200e-3\n",
    "    x0 = -y0\n",
    "    coords = [\n",
    "        (0, y0, z),\n",
    "        (5 + x0, y0, z),\n",
    "        (5 + x0, y0 + 5, z),\n",
    "        (10, y0 + 5, z + 2),\n",
    "        (10, y0 + 5, z + 10),\n",
    "    ]\n",
    "    pipe1 = ada.Pipe(\n",
    "        \"Pipe1\",\n",
    "        coords,\n",
    "        ada.Section(\"PSec\", \"PIPE\", r=0.10, wt=5e-3),\n",
    "    )\n",
    "\n",
    "    return ada.Assembly('TestModel') / ada.Part('TestSite') /  pipe1\n",
    "\n",
    "a = pipe_w_multiple_bends()\n",
    "pipe = list(a.get_all_physical_objects())[0]\n",
    "pipe_bends = list(filter(lambda x: isinstance(x, ada.PipeSegElbow), pipe.segments))\n",
    "\n",
    "in_plane_pipe_bend = pipe_bends[0]\n",
    "out_of_plane_pipe_bend = pipe_bends[1]"
   ]
  },
  {
   "cell_type": "markdown",
   "metadata": {},
   "source": [
    "## In-plane example"
   ]
  },
  {
   "cell_type": "code",
   "execution_count": null,
   "metadata": {},
   "outputs": [],
   "source": [
    "pipe_elbow = in_plane_pipe_bend\n",
    "\n",
    "xvec1 = unit_vector(pipe_elbow.xvec1)\n",
    "xvec2 = unit_vector(pipe_elbow.xvec2)\n",
    "\n",
    "p1, p2, p3 = pipe_elbow.p1.p, pipe_elbow.p2.p, pipe_elbow.p3.p\n",
    "\n",
    "normal = normal_to_points_in_plane([p1, p2, p3])\n",
    "\n",
    "cd = get_center_from_3_points_and_radius(p1, p2, p3, pipe_elbow.bend_radius)\n",
    "extrusion_start_p = pipe_elbow.arc_seg.p1\n",
    "diff = cd.center - extrusion_start_p\n",
    "\n",
    "yvec = calc_yvec(xvec1, normal)\n",
    "global_csys = (X, Y, Z)\n",
    "new_csys = (normal, yvec, xvec1)\n",
    "\n",
    "n_tra, diff_tra = transform3d(global_csys, new_csys, O, [normal, diff])\n",
    "\n",
    "# Calculate back the transformed coordinate diff_tra_norm, which is defined in a local coordinate system \"new_csys\"\n",
    "abs_coord = transform3d(new_csys, global_csys, O, [diff_tra])[0] + cd.center\n",
    "\n",
    "# Is the axis point in the XY plane\n",
    "eqp = EquationOfPlane(extrusion_start_p, normal)\n",
    "eqp.is_point_in_plane(abs_coord)"
   ]
  },
  {
   "cell_type": "code",
   "execution_count": null,
   "outputs": [],
   "source": [
    "# a.add_part(make_eq_plane_object(\"InPlane\", eqp))\n",
    "# a.to_ifc('test.ifc')"
   ],
   "metadata": {
    "collapsed": false
   }
  },
  {
   "cell_type": "code",
   "execution_count": null,
   "metadata": {},
   "outputs": [],
   "source": [
    "dist = diff.dot(eqp.normal)\n",
    "\n",
    "extrusion_start_p, abs_coord, diff, dist"
   ]
  },
  {
   "cell_type": "markdown",
   "metadata": {},
   "source": [
    "## Out-of-plane Example"
   ]
  },
  {
   "cell_type": "code",
   "execution_count": null,
   "metadata": {},
   "outputs": [],
   "source": [
    "pipe_elbow = out_of_plane_pipe_bend\n",
    "\n",
    "extrusion_start_p = pipe_elbow.arc_seg.p1\n",
    "\n",
    "xvec1 = unit_vector(pipe_elbow.xvec1)\n",
    "\n",
    "p1, p2, p3 = pipe_elbow.p1.p, pipe_elbow.p2.p, pipe_elbow.p3.p\n",
    "\n",
    "normal = normal_to_points_in_plane([p1, p2, p3])\n",
    "cd = get_center_from_3_points_and_radius(p1, p2, p3, pipe_elbow.bend_radius)\n",
    "diff = np.array([roundoff(x) for x in cd.center - extrusion_start_p])\n",
    "\n",
    "yvec = calc_yvec(xvec1, normal)\n",
    "global_csys = (X, Y, Z)\n",
    "new_csys = (normal, yvec, xvec1)\n",
    "\n",
    "eqp = EquationOfPlane(extrusion_start_p, normal)\n",
    "eqp.is_point_in_plane(abs_coord)"
   ]
  },
  {
   "cell_type": "markdown",
   "metadata": {},
   "source": [
    "Okay, so the point is not in the XY-plane. How about projecting the point back into the XY-plane"
   ]
  },
  {
   "cell_type": "code",
   "execution_count": null,
   "metadata": {},
   "outputs": [],
   "source": [
    "dist = diff.dot(eqp.normal)\n",
    "proj_diff = diff - dist*eqp.normal\n",
    "\n",
    "extrusion_start_p, cd.center, abs_coord, diff, dist, proj_diff"
   ]
  }
 ],
 "metadata": {
  "kernelspec": {
   "display_name": "Python 3 (ipykernel)",
   "language": "python",
   "name": "python3"
  },
  "language_info": {
   "codemirror_mode": {
    "name": "ipython",
    "version": 3
   },
   "file_extension": ".py",
   "mimetype": "text/x-python",
   "name": "python",
   "nbconvert_exporter": "python",
   "pygments_lexer": "ipython3",
   "version": "3.10.4"
  }
 },
 "nbformat": 4,
 "nbformat_minor": 1
}
