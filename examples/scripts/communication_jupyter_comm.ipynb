{
 "cells": [
  {
   "cell_type": "code",
   "execution_count": null,
   "id": "initial_id",
   "metadata": {},
   "outputs": [],
   "source": [
    "from ada.visit.rendering.renderer_react import RendererReact\n",
    "from comm import create_comm"
   ]
  },
  {
   "cell_type": "code",
   "execution_count": null,
   "id": "b1dc6a69a7521ead",
   "metadata": {
    "collapsed": false
   },
   "outputs": [],
   "source": [
    "my_comm = create_comm(target_name='my_comm_target', data={'foo': 'bar'})\n",
    "\n",
    "# Handler for messages from the frontend\n",
    "def handle_message(msg):\n",
    "    print(msg['content']['data'])\n",
    "\n",
    "my_comm.on_msg(handle_message)"
   ]
  },
  {
   "cell_type": "code",
   "execution_count": null,
   "id": "c961ded49ae60610",
   "metadata": {
    "collapsed": false
   },
   "outputs": [],
   "source": [
    "rr = RendererReact()\n",
    "rr.show()"
   ]
  }
 ],
 "metadata": {
  "kernelspec": {
   "display_name": "Python 3 (ipykernel)",
   "language": "python",
   "name": "python3"
  },
  "language_info": {
   "codemirror_mode": {
    "name": "ipython",
    "version": 3
   },
   "file_extension": ".py",
   "mimetype": "text/x-python",
   "name": "python",
   "nbconvert_exporter": "python",
   "pygments_lexer": "ipython3",
   "version": "3.12.0"
  }
 },
 "nbformat": 4,
 "nbformat_minor": 5
}
