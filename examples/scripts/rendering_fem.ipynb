{
 "cells": [
  {
   "cell_type": "code",
   "execution_count": null,
   "id": "initial_id",
   "metadata": {
    "ExecuteTime": {
     "end_time": "2024-01-27T15:28:25.109169500Z",
     "start_time": "2024-01-27T15:28:25.106115800Z"
    }
   },
   "outputs": [],
   "source": [
    "import pathlib\n",
    "\n",
    "import ada\n",
    "from ada.config import logger"
   ]
  },
  {
   "cell_type": "code",
   "execution_count": null,
   "id": "408e26c05c70a485",
   "metadata": {
    "ExecuteTime": {
     "end_time": "2024-01-27T15:30:42.806319100Z",
     "start_time": "2024-01-27T15:30:42.800134700Z"
    },
    "collapsed": false,
    "jupyter": {
     "outputs_hidden": false
    }
   },
   "outputs": [],
   "source": [
    "logger.setLevel(\"INFO\")\n",
    "_ROOT_DIR = pathlib.Path('').absolute().resolve().parent.parent\n",
    "EX_DIR = _ROOT_DIR / \"files\" / \"fem_files\" / \"cantilever\" / \"code_aster\"\n",
    "EX_DIR"
   ]
  },
  {
   "cell_type": "code",
   "execution_count": null,
   "id": "c961ded49ae60610",
   "metadata": {
    "ExecuteTime": {
     "end_time": "2024-01-27T15:30:44.794468900Z",
     "start_time": "2024-01-27T15:30:44.433654Z"
    },
    "collapsed": false,
    "jupyter": {
     "outputs_hidden": false
    }
   },
   "outputs": [],
   "source": [
    "rmed_file = EX_DIR / \"eigen_shell_cantilever_code_aster.rmed\"\n",
    "\n",
    "rmed = ada.from_fem_res(rmed_file)\n",
    "rmed.show()"
   ]
  },
  {
   "cell_type": "code",
   "execution_count": null,
   "id": "228ad306-1c95-46a0-b297-483f84b6c021",
   "metadata": {},
   "outputs": [],
   "source": [
    "rmed.show(update_only=True)"
   ]
  }
 ],
 "metadata": {
  "kernelspec": {
   "display_name": "Python 3 (ipykernel)",
   "language": "python",
   "name": "python3"
  },
  "language_info": {
   "codemirror_mode": {
    "name": "ipython",
    "version": 3
   },
   "file_extension": ".py",
   "mimetype": "text/x-python",
   "name": "python",
   "nbconvert_exporter": "python",
   "pygments_lexer": "ipython3",
   "version": "3.12.1"
  }
 },
 "nbformat": 4,
 "nbformat_minor": 5
}
