{
 "cells": [
  {
   "cell_type": "code",
   "execution_count": 1,
   "id": "initial_id",
   "metadata": {
    "ExecuteTime": {
     "end_time": "2024-09-26T11:31:56.463822Z",
     "start_time": "2024-09-26T11:31:55.881280Z"
    }
   },
   "outputs": [],
   "source": [
    "import ada"
   ]
  },
  {
   "cell_type": "code",
   "execution_count": null,
   "id": "30bd99f29d581872",
   "metadata": {
    "ExecuteTime": {
     "start_time": "2024-09-26T11:32:17.897455Z"
    }
   },
   "outputs": [],
   "source": [
    "bm = ada.Beam('bm1', (0,0,0), (1,0,0), 'IPE300')\n",
    "bm.show(unique_id=334)"
   ]
  },
  {
   "cell_type": "code",
   "execution_count": null,
   "id": "d28bbc15-b248-4758-98c8-32ff841855e6",
   "metadata": {},
   "outputs": [],
   "source": [
    "bm = ada.Beam('bm1', (0,0,0), (1,0,0), 'IPE300')\n",
    "bm.show(unique_id=400)"
   ]
  }
 ],
 "metadata": {
  "kernelspec": {
   "display_name": "Python 3 (ipykernel)",
   "language": "python",
   "name": "python3"
  },
  "language_info": {
   "codemirror_mode": {
    "name": "ipython",
    "version": 3
   },
   "file_extension": ".py",
   "mimetype": "text/x-python",
   "name": "python",
   "nbconvert_exporter": "python",
   "pygments_lexer": "ipython3",
   "version": "3.12.6"
  }
 },
 "nbformat": 4,
 "nbformat_minor": 5
}
