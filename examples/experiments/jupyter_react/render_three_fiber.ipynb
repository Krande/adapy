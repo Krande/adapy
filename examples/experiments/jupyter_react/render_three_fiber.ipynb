{
 "cells": [
  {
   "cell_type": "code",
   "execution_count": 1,
   "metadata": {},
   "outputs": [
    {
     "data": {
      "application/vnd.jupyter.widget-view+json": {
       "model_id": "5834fd77e25a4aae836515cc7bb4ba78",
       "version_major": 2,
       "version_minor": 0
      },
      "text/plain": [
       "ThreeFiberWidget()"
      ]
     },
     "execution_count": 1,
     "metadata": {},
     "output_type": "execute_result"
    }
   ],
   "source": [
    "import ipyreact\n",
    "import pathlib\n",
    "\n",
    "\n",
    "class ThreeFiberWidget(ipyreact.ReactWidget):\n",
    "    _esm = pathlib.Path(\"react-fiber.tsx\")\n",
    "\n",
    "widget = ThreeFiberWidget()\n",
    "widget"
   ]
  },
  {
   "cell_type": "code",
   "execution_count": 2,
   "metadata": {},
   "outputs": [],
   "source": [
    "widget.value"
   ]
  }
 ],
 "metadata": {
  "kernelspec": {
   "display_name": "Python 3 (ipykernel)",
   "language": "python",
   "name": "python3"
  },
  "language_info": {
   "codemirror_mode": {
    "name": "ipython",
    "version": 3
   },
   "file_extension": ".py",
   "mimetype": "text/x-python",
   "name": "python",
   "nbconvert_exporter": "python",
   "pygments_lexer": "ipython3",
   "version": "3.11.3"
  }
 },
 "nbformat": 4,
 "nbformat_minor": 4
}
