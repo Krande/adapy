{
 "cells": [
  {
   "cell_type": "code",
   "execution_count": 1,
   "metadata": {},
   "outputs": [],
   "source": [
    "from ada.core.curve_utils import create_arc_segment, calc_2darc_start_end_from_lines_radius\n",
    "from ada.geom.placement import Direction\n",
    "from ada.geom.points import Point\n",
    "from curve_plotter import segment_plotter"
   ]
  },
  {
   "cell_type": "code",
   "execution_count": 2,
   "metadata": {
    "collapsed": false,
    "jupyter": {
     "outputs_hidden": false
    }
   },
   "outputs": [],
   "source": [
    "p1 = Point(1, 1)\n",
    "p2 = Point(1, 0)\n",
    "p3 = Point(0, 0)\n",
    "\n",
    "v1 = Direction.from_points(p1, p2)\n",
    "v2 = Direction.from_points(p3, p2)\n",
    "radius = 0.2\n",
    "arc_1 = create_arc_segment(v1, v2, radius)\n",
    "segments = [arc_1]\n",
    "\n",
    "segment_plotter(segments)"
   ]
  },
  {
   "cell_type": "code",
   "execution_count": null,
   "metadata": {
    "collapsed": false,
    "jupyter": {
     "outputs_hidden": false
    }
   },
   "outputs": [],
   "source": [
    "calc_2darc_start_end_from_lines_radius(self.p1, self.p2, self.p3, self.radius)"
   ]
  }
 ],
 "metadata": {
  "kernelspec": {
   "display_name": "Python 3 (ipykernel)",
   "language": "python",
   "name": "python3"
  },
  "language_info": {
   "codemirror_mode": {
    "name": "ipython",
    "version": 3
   },
   "file_extension": ".py",
   "mimetype": "text/x-python",
   "name": "python",
   "nbconvert_exporter": "python",
   "pygments_lexer": "ipython3",
   "version": "3.11.3"
  }
 },
 "nbformat": 4,
 "nbformat_minor": 4
}
