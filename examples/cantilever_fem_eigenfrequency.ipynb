{
 "cells": [
  {
   "cell_type": "code",
   "execution_count": null,
   "metadata": {
    "pycharm": {
     "is_executing": true
    }
   },
   "outputs": [],
   "source": [
    "import ada\n",
    "from ada.fem.meshing import GmshOptions\n",
    "from ada.materials.metals import CarbonSteel\n",
    "from ada.visualize.femviz import visualize_it"
   ]
  },
  {
   "cell_type": "code",
   "execution_count": null,
   "metadata": {
    "pycharm": {
     "is_executing": true
    }
   },
   "outputs": [],
   "source": [
    "def make_fem(geom_repr) -> ada.Assembly:\n",
    "    bm = ada.Beam(\"MyBeam\", (0, 0.5, 0.5), (5, 0.5, 0.5), \"IPE400\", ada.Material(\"S420\", CarbonSteel(\"S420\")))\n",
    "    assembly = ada.Assembly(\"MyAssembly\") / [ada.Part(\"MyPart\") / bm]\n",
    "    part = bm.parent\n",
    "    part.fem = bm.to_fem_obj(0.1, geom_repr, options=GmshOptions(Mesh_ElementOrder=1))\n",
    "    nodes = bm.bbox.sides.back(return_fem_nodes=True)\n",
    "    assembly.fem.add_bc(ada.fem.Bc(\"Fixed\", ada.fem.FemSet(\"bc_nodes\", nodes), [1, 2, 3, 4, 5, 6]))\n",
    "    assembly.fem.add_step(ada.fem.StepEigen(\"Eigen\", num_eigen_modes=10))\n",
    "    return assembly"
   ]
  },
  {
   "cell_type": "code",
   "execution_count": null,
   "metadata": {},
   "outputs": [],
   "source": [
    "!export ADA_ccx_exe="
   ]
  },
  {
   "cell_type": "code",
   "execution_count": null,
   "metadata": {
    "pycharm": {
     "is_executing": true
    }
   },
   "outputs": [],
   "source": [
    "a = make_fem(\"shell\")\n",
    "res = a.to_fem(\"Cantilever_CA_EIG_sh\", \"calculix\", overwrite=True, execute=True)"
   ]
  },
  {
   "cell_type": "code",
   "execution_count": null,
   "metadata": {},
   "outputs": [],
   "source": [
    "visualize_it(res.results_file_path, temp_dir=\"../output\")"
   ]
  },
  {
   "cell_type": "code",
   "execution_count": null,
   "metadata": {},
   "outputs": [],
   "source": [
    "for mode in res.eigen_mode_data.modes:\n",
    "    print(mode)"
   ]
  },
  {
   "cell_type": "code",
   "execution_count": null,
   "metadata": {
    "scrolled": false
   },
   "outputs": [],
   "source": [
    "a = make_fem(\"line\")\n",
    "res = a.to_fem(\"Cantilever_CA_EIG_bm\", \"code_aster\", overwrite=True, execute=True)"
   ]
  },
  {
   "cell_type": "code",
   "execution_count": null,
   "metadata": {},
   "outputs": [],
   "source": [
    "visualize_it(res.results_file_path, temp_dir=\"../output\")"
   ]
  },
  {
   "cell_type": "code",
   "execution_count": null,
   "metadata": {
    "scrolled": true
   },
   "outputs": [],
   "source": [
    "for mode in res.eigen_mode_data.modes:\n",
    "    print(mode)"
   ]
  },
  {
   "cell_type": "code",
   "execution_count": null,
   "metadata": {},
   "outputs": [],
   "source": [
    "print(res.output.stdout)"
   ]
  }
 ],
 "metadata": {
  "kernelspec": {
   "display_name": "Python 3 (ipykernel)",
   "language": "python",
   "name": "python3"
  },
  "language_info": {
   "codemirror_mode": {
    "name": "ipython",
    "version": 3
   },
   "file_extension": ".py",
   "mimetype": "text/x-python",
   "name": "python",
   "nbconvert_exporter": "python",
   "pygments_lexer": "ipython3",
   "version": "3.11.0"
  }
 },
 "nbformat": 4,
 "nbformat_minor": 1
}
