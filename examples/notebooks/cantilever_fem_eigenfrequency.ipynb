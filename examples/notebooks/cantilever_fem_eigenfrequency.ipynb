{
 "cells": [
  {
   "cell_type": "code",
   "execution_count": null,
   "metadata": {},
   "outputs": [],
   "source": [
    "import ada\n",
    "from ada.fem.meshing import GmshOptions\n",
    "from ada.materials.metals import CarbonSteel"
   ]
  },
  {
   "cell_type": "code",
   "execution_count": null,
   "metadata": {},
   "outputs": [],
   "source": [
    "def make_fem(geom_repr) -> ada.Assembly:\n",
    "    bm = ada.Beam(\"MyBeam\", (0, 0.5, 0.5), (5, 0.5, 0.5), \"IPE400\", ada.Material(\"S420\", CarbonSteel(\"S420\")))\n",
    "    assembly = ada.Assembly(\"MyAssembly\") / [ada.Part(\"MyPart\") / bm]\n",
    "    part = bm.parent\n",
    "    part.fem = bm.to_fem_obj(0.1, geom_repr, options=GmshOptions(Mesh_ElementOrder=1))\n",
    "    nodes = bm.bbox().sides.back(return_fem_nodes=True)\n",
    "    assembly.fem.add_bc(ada.fem.Bc(\"Fixed\", ada.fem.FemSet(\"bc_nodes\", nodes), [1, 2, 3, 4, 5, 6]))\n",
    "    assembly.fem.add_step(ada.fem.StepEigen(\"Eigen\", num_eigen_modes=10))\n",
    "    return assembly"
   ]
  },
  {
   "cell_type": "code",
   "execution_count": null,
   "metadata": {},
   "outputs": [],
   "source": [
    "a = make_fem(\"shell\")\n",
    "ccx_res = a.to_fem(\"Cantilever_CCX_EIG_sh\", \"calculix\", overwrite=True, execute=True)"
   ]
  },
  {
   "cell_type": "code",
   "execution_count": null,
   "metadata": {
    "collapsed": false,
    "jupyter": {
     "outputs_hidden": false
    }
   },
   "outputs": [],
   "source": [
    "a = make_fem(\"shell\")\n",
    "ca_res = a.to_fem(\"Cantilever_CA_EIG_sh\", \"code_aster\", overwrite=True, execute=True)"
   ]
  },
  {
   "cell_type": "code",
   "execution_count": null,
   "metadata": {
    "collapsed": false,
    "jupyter": {
     "outputs_hidden": false
    }
   },
   "outputs": [],
   "source": [
    "scene = ccx_res.to_trimesh(1, \"DISP\", \"DISP\", 1, 20)\n",
    "scene.show()"
   ]
  },
  {
   "cell_type": "code",
   "execution_count": null,
   "metadata": {
    "collapsed": false,
    "jupyter": {
     "outputs_hidden": false
    }
   },
   "outputs": [],
   "source": [
    "scene = ca_res.to_trimesh(\n",
    "    5.054232624598001, \"modes___DEPL[0] - 5.05423\", \"modes___DEPL[0] - 5.05423\", 5.054232624598001, 1\n",
    ")\n",
    "scene.show()"
   ]
  },
  {
   "cell_type": "code",
   "execution_count": null,
   "metadata": {
    "collapsed": false,
    "jupyter": {
     "outputs_hidden": false
    }
   },
   "outputs": [],
   "source": [
    "for cx in ccx_res.iter_results_by_field_value():\n",
    "    print(cx)"
   ]
  },
  {
   "cell_type": "code",
   "execution_count": null,
   "metadata": {
    "collapsed": false,
    "jupyter": {
     "outputs_hidden": false
    }
   },
   "outputs": [],
   "source": [
    "for ca in ca_res.iter_results_by_field_value():\n",
    "    print(ca)"
   ]
  }
 ],
 "metadata": {
  "kernelspec": {
   "display_name": "Python 3 (ipykernel)",
   "language": "python",
   "name": "python3"
  },
  "language_info": {
   "codemirror_mode": {
    "name": "ipython",
    "version": 3
   },
   "file_extension": ".py",
   "mimetype": "text/x-python",
   "name": "python",
   "nbconvert_exporter": "python",
   "pygments_lexer": "ipython3",
   "version": "3.11.6"
  }
 },
 "nbformat": 4,
 "nbformat_minor": 4
}
