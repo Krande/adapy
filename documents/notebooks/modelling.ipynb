{
 "cells": [
  {
   "cell_type": "markdown",
   "id": "3dacd84e4e8e39b9",
   "metadata": {},
   "source": [
    "# Modelling"
   ]
  },
  {
   "cell_type": "code",
   "execution_count": 1,
   "id": "initial_id",
   "metadata": {
    "ExecuteTime": {
     "end_time": "2025-03-13T17:07:18.837746Z",
     "start_time": "2025-03-13T17:07:18.111147Z"
    },
    "collapsed": true
   },
   "outputs": [],
   "source": [
    "import ada"
   ]
  },
  {
   "cell_type": "code",
   "execution_count": 2,
   "id": "8caeb99f00c2b95a",
   "metadata": {
    "ExecuteTime": {
     "end_time": "2025-03-13T17:07:43.356745Z",
     "start_time": "2025-03-13T17:07:35.853573Z"
    }
   },
   "outputs": [
    {
     "name": "stderr",
     "output_type": "stream",
     "text": [
      "C:\\Work\\code\\adapy\\.pixi\\envs\\tests\\Lib\\site-packages\\h5py\\__init__.py:36: UserWarning: h5py is running against HDF5 (1, 14, 4) when it was built against (1, 14, 4, 3), this may cause problems\n",
      "  _warn((\"h5py is running against HDF5 {0} when it was built against {1}, \"\n"
     ]
    },
    {
     "data": {
      "application/vnd.jupyter.widget-view+json": {
       "model_id": "fb868ce17f8842b1be9ed6c15d560115",
       "version_major": 2,
       "version_minor": 0
      },
      "text/plain": [
       "HTML(value='<div><iframe srcdoc=\"&lt;!DOCTYPE html&gt;\\n&lt;html lang=&quot;en&quot;&gt;\\n    &lt;head&gt;\\n  …"
      ]
     },
     "execution_count": 2,
     "metadata": {},
     "output_type": "execute_result"
    }
   ],
   "source": [
    "bm = ada.Beam('bm1', (0,0,0), (1,0,0), 'IPE300')\n",
    "bm.show()"
   ]
  }
 ],
 "metadata": {
  "kernelspec": {
   "display_name": "Python 3",
   "language": "python",
   "name": "python3"
  },
  "language_info": {
   "codemirror_mode": {
    "name": "ipython",
    "version": 2
   },
   "file_extension": ".py",
   "mimetype": "text/x-python",
   "name": "python",
   "nbconvert_exporter": "python",
   "pygments_lexer": "ipython2",
   "version": "2.7.6"
  }
 },
 "nbformat": 4,
 "nbformat_minor": 5
}
