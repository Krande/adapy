{
 "cells": [
  {
   "cell_type": "code",
   "id": "initial_id",
   "metadata": {
    "ExecuteTime": {
     "end_time": "2025-02-13T08:43:07.327470Z",
     "start_time": "2025-02-13T08:43:07.323139Z"
    }
   },
   "source": [
    "import ada"
   ],
   "outputs": [],
   "execution_count": 3
  },
  {
   "cell_type": "code",
   "id": "c7f1cb6493e448d",
   "metadata": {
    "ExecuteTime": {
     "end_time": "2025-02-13T08:43:08.304895Z",
     "start_time": "2025-02-13T08:43:08.267749Z"
    }
   },
   "source": [
    "ada.Section.from_str(\"IPE300\")"
   ],
   "outputs": [
    {
     "data": {
      "text/plain": [
       "Section(IPE300, BaseTypes.IPROFILE, h: 0.3, w_btn: 0.15, w_top: 0.15, t_fbtn: 0.0107, t_ftop: 0.0107, t_w: 0.0071)"
      ]
     },
     "execution_count": 4,
     "metadata": {},
     "output_type": "execute_result"
    }
   ],
   "execution_count": 4
  },
  {
   "cell_type": "code",
   "id": "5e75e5b634d4907c",
   "metadata": {
    "ExecuteTime": {
     "end_time": "2025-02-13T08:43:11.116322Z",
     "start_time": "2025-02-13T08:43:11.081073Z"
    }
   },
   "source": [
    "ada.Section.from_str(\"BG3000x1200x20x30\")"
   ],
   "outputs": [
    {
     "data": {
      "text/plain": [
       "Section(BG3000x1200x20x30, BaseTypes.BOX, h: 3.0, w_btn: 1.2, w_top: 1.2, t_fbtn: 0.03, t_ftop: 0.03, t_w: 0.02)"
      ]
     },
     "execution_count": 5,
     "metadata": {},
     "output_type": "execute_result"
    }
   ],
   "execution_count": 5
  },
  {
   "cell_type": "code",
   "id": "0531773b-26dd-42c5-8fb4-cf81a4667888",
   "metadata": {
    "ExecuteTime": {
     "end_time": "2025-02-13T08:45:12.754177Z",
     "start_time": "2025-02-13T08:44:05.995778Z"
    }
   },
   "source": [
    "ada.Section.from_str(\"IG3000x1200x20x30\")"
   ],
   "outputs": [
    {
     "data": {
      "text/plain": [
       "[Section(IG3000x1200x20x30, BaseTypes.IPROFILE, h: 3.0, w_btn: 1.2, w_top: 1.2, t_fbtn: 0.03, t_ftop: 0.03, t_w: 0.02),\n",
       " Section(IG3000x1200x20x30_e, BaseTypes.IPROFILE, h: 3.0, w_btn: 1.2, w_top: 1.2, t_fbtn: 0.03, t_ftop: 0.03, t_w: 0.02)]"
      ]
     },
     "execution_count": 7,
     "metadata": {},
     "output_type": "execute_result"
    }
   ],
   "execution_count": 7
  },
  {
   "cell_type": "code",
   "execution_count": null,
   "id": "48d73f25-da46-4783-9056-91ded0938949",
   "metadata": {},
   "outputs": [],
   "source": []
  }
 ],
 "metadata": {
  "kernelspec": {
   "display_name": "Python 3 (ipykernel)",
   "language": "python",
   "name": "python3"
  },
  "language_info": {
   "codemirror_mode": {
    "name": "ipython",
    "version": 3
   },
   "file_extension": ".py",
   "mimetype": "text/x-python",
   "name": "python",
   "nbconvert_exporter": "python",
   "pygments_lexer": "ipython3",
   "version": "3.12.8"
  }
 },
 "nbformat": 4,
 "nbformat_minor": 5
}
