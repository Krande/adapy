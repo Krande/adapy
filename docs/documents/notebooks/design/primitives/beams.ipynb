{
 "cells": [
  {
   "metadata": {},
   "cell_type": "markdown",
   "source": "# Beams",
   "id": "f3874db0236a0f68"
  },
  {
   "metadata": {
    "jupyter": {
     "is_executing": true
    }
   },
   "cell_type": "code",
   "source": [
    "import ada\n",
    "from ada.api.beams.beam_tapered import TaperTypes"
   ],
   "id": "78857f7ea1846aee",
   "outputs": [],
   "execution_count": null
  },
  {
   "metadata": {},
   "cell_type": "code",
   "outputs": [],
   "execution_count": null,
   "source": [
    "bm = ada.Beam('bm1', (0,0,0), (1,0,0), 'IPE300')\n",
    "bm.show()"
   ],
   "id": "1690d9009ea2b6d5"
  },
  {
   "metadata": {},
   "cell_type": "markdown",
   "source": "## Tapered Beams",
   "id": "c85dc04a480e28d9"
  },
  {
   "metadata": {},
   "cell_type": "code",
   "outputs": [],
   "execution_count": null,
   "source": [
    "bm = ada.Beam(\"bm1\", (0, 0, 0), (1, 0, 0), \"IPE300\")\n",
    "beams = [bm]\n",
    "\n",
    "bm2 = ada.BeamTapered(\"bm2\", (0, 1, 0), (1, 1, 0), \"IPE600\", \"IPE300\")\n",
    "beams.append(bm2)\n",
    "\n",
    "bm3 = ada.BeamTapered(\"bm3\", (0, 2, 0), (1, 2, 0), \"IPE600\", \"IPE300\", taper_type=TaperTypes.FLUSH_TOP)\n",
    "beams.append(bm3)\n",
    "\n",
    "bm4 = ada.BeamTapered(\"bm4\", (0, 3, 0), (1, 3, 0), \"IPE600\", \"IPE300\", taper_type=TaperTypes.FLUSH_BOTTOM)\n",
    "beams.append(bm4)\n",
    "\n",
    "pl = ada.Plate(\"pl1\", [(0, 0), (1, 0), (1, 3), (0, 3)], 0.01)\n",
    "plates = [pl]\n",
    "\n",
    "(ada.Part(\"Beams\") / (beams + plates)).show()\n"
   ],
   "id": "8caa58e0ae667575"
  }
 ],
 "metadata": {
  "kernelspec": {
   "display_name": "Python 3",
   "language": "python",
   "name": "python3"
  },
  "language_info": {
   "codemirror_mode": {
    "name": "ipython",
    "version": 2
   },
   "file_extension": ".py",
   "mimetype": "text/x-python",
   "name": "python",
   "nbconvert_exporter": "python",
   "pygments_lexer": "ipython2",
   "version": "2.7.6"
  }
 },
 "nbformat": 4,
 "nbformat_minor": 5
}
