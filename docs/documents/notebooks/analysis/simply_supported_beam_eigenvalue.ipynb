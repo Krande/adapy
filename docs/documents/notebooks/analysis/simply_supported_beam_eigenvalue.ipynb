{
 "cells": [
  {
   "cell_type": "markdown",
   "id": "3e1cbc3fc4995e06",
   "metadata": {},
   "source": [
    "# Eigenvalue Analysis of Simply Supported Beam"
   ]
  },
  {
   "cell_type": "code",
   "id": "c19e3b8412420f04",
   "metadata": {},
   "source": [
    "import ada"
   ],
   "outputs": [],
   "execution_count": null
  },
  {
   "cell_type": "code",
   "id": "b6291fc521566c83",
   "metadata": {},
   "source": [
    "bm = ada.Beam('bm1', (0,0,0), (5,0,0), 'IPE300')\n",
    "fem = bm.to_fem_obj(0.05, \"solid\")\n",
    "fem.show()"
   ],
   "outputs": [],
   "execution_count": null
  },
  {
   "cell_type": "code",
   "id": "fb7263f3d583b5be",
   "metadata": {},
   "source": [
    "a = ada.Assembly() / [ada.Part(\"MyPart\", fem=fem) / bm]\n",
    "\n",
    "# Create an Eigenvalue Analysis Step with 10 eigenmodes\n",
    "step = a.fem.add_step(ada.fem.StepEigen(\"Eigen\", num_eigen_modes=10))\n",
    "\n",
    "nodes = bm.bbox().sides.get([\"front\", \"back\"], return_fem_nodes=True)\n",
    "a.fem.add_bc(ada.fem.Bc(\"Fixed\", ada.fem.FemSet(\"bc_nodes\", nodes), [1, 2, 3]))"
   ],
   "outputs": [],
   "execution_count": null
  },
  {
   "cell_type": "code",
   "id": "267a78d121a4a8c0",
   "metadata": {},
   "source": [
    "result = a.to_fem('my_ss_eigen_beam', 'code_aster', execute=True, overwrite=True)\n",
    "result.show()"
   ],
   "outputs": [],
   "execution_count": null
  },
  {
   "cell_type": "code",
   "id": "221f2235-5d8d-4d16-900d-fb9b45abf288",
   "metadata": {},
   "source": [
    "result"
   ],
   "outputs": [],
   "execution_count": null
  }
 ],
 "metadata": {
  "kernelspec": {
   "display_name": "Python 3 (ipykernel)",
   "language": "python",
   "name": "python3"
  },
  "language_info": {
   "codemirror_mode": {
    "name": "ipython",
    "version": 3
   },
   "file_extension": ".py",
   "mimetype": "text/x-python",
   "name": "python",
   "nbconvert_exporter": "python",
   "pygments_lexer": "ipython3",
   "version": "3.12.9"
  }
 },
 "nbformat": 4,
 "nbformat_minor": 5
}
