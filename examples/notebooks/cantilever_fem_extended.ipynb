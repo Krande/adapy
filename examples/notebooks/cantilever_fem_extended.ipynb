{
 "cells": [
  {
   "cell_type": "markdown",
   "id": "massive-europe",
   "metadata": {
    "pycharm": {
     "name": "#%% md\n"
    }
   },
   "source": [
    "# Design and Analyze a beam with holes\n",
    "\n",
    "The following example demonstrates how you can add penetrations to a beam using various primitives and finally\n",
    "export it to an IFC file"
   ]
  },
  {
   "cell_type": "code",
   "id": "stable-scottish",
   "metadata": {
    "pycharm": {
     "name": "#%%\n"
    }
   },
   "source": [
    "import numpy as np\n",
    "\n",
    "import ada\n",
    "from ada.fem.meshing import GmshOptions\n",
    "from ada.materials.metals import CarbonSteel, DnvGl16Mat"
   ],
   "outputs": [],
   "execution_count": null
  },
  {
   "cell_type": "markdown",
   "id": "mechanical-disposal",
   "metadata": {
    "pycharm": {
     "name": "#%% md\n"
    }
   },
   "source": [
    "**The basic beam setup**\n",
    "\n",
    "The following code creates the following Assembly (and IFC) hierarchy\n",
    "\n",
    "    MyAssembly (IfSite)\n",
    "        MyPart (IfcBuildingStorey)\n",
    "            MyBeam (IfcBeam)"
   ]
  },
  {
   "cell_type": "code",
   "id": "violent-rotation",
   "metadata": {
    "pycharm": {
     "name": "#%%\n"
    }
   },
   "source": [
    "bm = ada.Beam(\n",
    "    \"MyBeam\",\n",
    "    (0, 0, 0),\n",
    "    (1.5, 0, 0),\n",
    "    \"IPE400\",\n",
    "    ada.Material(\"S420\", CarbonSteel(\"S420\", plasticity_model=DnvGl16Mat(0.1, \"S420\"))),\n",
    ")\n",
    "a = ada.Assembly(\"MyAssembly\") / [ada.Part(\"MyPart\") / bm]\n",
    "a.show()"
   ],
   "outputs": [],
   "execution_count": null
  },
  {
   "cell_type": "markdown",
   "id": "artificial-vegetable",
   "metadata": {
    "pycharm": {
     "name": "#%% md\n"
    }
   },
   "source": [
    "**Polygon Extrusions**"
   ]
  },
  {
   "cell_type": "code",
   "id": "human-cowboy",
   "metadata": {
    "pycharm": {
     "name": "#%%\n"
    }
   },
   "source": [
    "h = 0.2\n",
    "r = 0.02\n",
    "\n",
    "normal = [0, 1, 0]\n",
    "xdir = [-1, 0, 0]\n",
    "\n",
    "\n",
    "origin = np.array([0.2, -0.1, -0.1])\n",
    "points = [(0, 0), (0.1, 0), (0.05, 0.1)]\n",
    "\n",
    "poly1 = bm.add_boolean(ada.PrimExtrude(\"Poly1\", points, h, normal, origin, xdir))\n",
    "bm.show()"
   ],
   "outputs": [],
   "execution_count": null
  },
  {
   "cell_type": "code",
   "id": "attempted-moscow",
   "metadata": {
    "pycharm": {
     "name": "#%%\n"
    }
   },
   "source": [
    "origin += np.array([0.2, 0, 0])\n",
    "points = [(0, 0, r), (0.1, 0, r), (0.05, 0.1, r)]\n",
    "\n",
    "poly2 = bm.add_boolean(ada.PrimExtrude(\"Poly2\", points, h, normal, origin, xdir))\n",
    "bm.show()"
   ],
   "outputs": [],
   "execution_count": null
  },
  {
   "cell_type": "code",
   "id": "broad-liverpool",
   "metadata": {
    "pycharm": {
     "name": "#%%\n"
    }
   },
   "source": [
    "origin += np.array([0.2, 0, 0])\n",
    "points = [(0, 0, r), (0.1, 0, r), (0.1, 0.2, r), (0.0, 0.2, r)]\n",
    "\n",
    "poly3 = bm.add_boolean(ada.PrimExtrude(\"Poly3\", points, h, normal, origin, xdir))\n",
    "bm.show()"
   ],
   "outputs": [],
   "execution_count": null
  },
  {
   "cell_type": "code",
   "id": "liberal-afternoon",
   "metadata": {
    "pycharm": {
     "name": "#%%\n"
    }
   },
   "source": [
    "# Cylinder Extrude\n",
    "x = origin[0] + 0.2\n",
    "\n",
    "cyl = bm.add_boolean(ada.PrimCyl(\"cylinder\", (x, -0.1, 0), (x, 0.1, 0), 0.1))\n",
    "bm.show()"
   ],
   "outputs": [],
   "execution_count": null
  },
  {
   "cell_type": "code",
   "id": "sustainable-burke",
   "metadata": {
    "pycharm": {
     "name": "#%%\n"
    }
   },
   "source": [
    "# Box Extrude\n",
    "x += 0.2\n",
    "\n",
    "box = bm.add_boolean(ada.PrimBox(\"box\", (x, -0.1, -0.1), (x + 0.2, 0.1, 0.1)))\n",
    "bm.show()"
   ],
   "outputs": [],
   "execution_count": null
  },
  {
   "cell_type": "code",
   "id": "collective-cliff",
   "metadata": {
    "pycharm": {
     "name": "#%%\n"
    }
   },
   "source": [
    "# Export IFC to the Home folder\n",
    "a.to_ifc(\"../output/MyBeamWithHoles.ifc\")"
   ],
   "outputs": [],
   "execution_count": null
  },
  {
   "cell_type": "code",
   "id": "mental-hughes",
   "metadata": {
    "pycharm": {
     "name": "#%%\n"
    }
   },
   "source": [
    "# Create a FEM analysis of the beam as a cantilever subjected to gravity loads\n",
    "p = a.get_part(\"MyPart\")\n",
    "p.fem = bm.to_fem_obj(0.1, \"shell\", options=GmshOptions(Mesh_MeshSizeFromCurvature=True))\n",
    "\n",
    "a.show()"
   ],
   "outputs": [],
   "execution_count": null
  },
  {
   "cell_type": "code",
   "id": "6832203a",
   "metadata": {
    "pycharm": {
     "name": "#%%\n"
    }
   },
   "source": [
    "# Create a Static Analysis Step with a Gravity load (multiplied with 800 to get deformation)\n",
    "step = a.fem.add_step(ada.fem.StepImplicitStatic(\"gravity\", nl_geom=True, init_incr=100.0, total_time=100.0))\n",
    "step.add_load(ada.fem.LoadGravity(\"grav\", -9.81 * 800))\n",
    "\n",
    "nodes = bm.bbox().sides.back(return_fem_nodes=True)\n",
    "a.fem.add_bc(ada.fem.Bc(\"Fixed\", ada.fem.FemSet(\"bc_nodes\", nodes), [1, 2, 3]))"
   ],
   "outputs": [],
   "execution_count": null
  },
  {
   "cell_type": "code",
   "id": "protected-origin",
   "metadata": {
    "pycharm": {
     "name": "#%%\n"
    }
   },
   "source": [
    "res = a.to_fem(\"MyCantilever_code_aster\", \"code_aster\", execute=True, overwrite=True)"
   ],
   "outputs": [],
   "execution_count": null
  },
  {
   "cell_type": "code",
   "id": "unsigned-manchester",
   "metadata": {
    "pycharm": {
     "name": "#%%\n"
    }
   },
   "source": [
    "res"
   ],
   "outputs": [],
   "execution_count": null
  },
  {
   "cell_type": "code",
   "id": "71a7abee",
   "metadata": {
    "pycharm": {
     "name": "#%%\n"
    }
   },
   "source": [
    "# Export IFC to the Home folder\n",
    "a.to_ifc(\"../output/MyBeamWithHoles.ifc\")"
   ],
   "outputs": [],
   "execution_count": null
  },
  {
   "cell_type": "markdown",
   "id": "cfc83ada",
   "metadata": {
    "pycharm": {
     "name": "#%% md\n"
    }
   },
   "source": [
    "**Add the primitives used for cutting as solid shapes to your model**"
   ]
  },
  {
   "cell_type": "code",
   "id": "e3bd2fb8",
   "metadata": {
    "pycharm": {
     "name": "#%%\n"
    }
   },
   "source": [
    "a / (ada.Part(\"Shapes\") / [x.primitive for x in [poly1, poly2, poly3, cyl, box]])\n",
    "a"
   ],
   "outputs": [],
   "execution_count": null
  },
  {
   "cell_type": "code",
   "id": "a98dd439",
   "metadata": {
    "pycharm": {
     "name": "#%%\n"
    }
   },
   "source": [
    "# Export IFC to the Home folder\n",
    "a.to_ifc(\"../output/MyBeamWithHoles_and_Primitives.ifc\")"
   ],
   "outputs": [],
   "execution_count": null
  }
 ],
 "metadata": {
  "kernelspec": {
   "display_name": "Python 3 (ipykernel)",
   "language": "python",
   "name": "python3"
  },
  "language_info": {
   "codemirror_mode": {
    "name": "ipython",
    "version": 3
   },
   "file_extension": ".py",
   "mimetype": "text/x-python",
   "name": "python",
   "nbconvert_exporter": "python",
   "pygments_lexer": "ipython3",
   "version": "3.12.7"
  }
 },
 "nbformat": 4,
 "nbformat_minor": 5
}
