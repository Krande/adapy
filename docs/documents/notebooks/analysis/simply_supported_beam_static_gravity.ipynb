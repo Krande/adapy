{
 "cells": [
  {
   "cell_type": "markdown",
   "id": "3e1cbc3fc4995e06",
   "metadata": {},
   "source": "# Static Analysis of Simply Supported Beam"
  },
  {
   "cell_type": "code",
   "id": "c19e3b8412420f04",
   "metadata": {
    "jupyter": {
     "is_executing": true
    }
   },
   "source": [
    "import ada"
   ],
   "outputs": [],
   "execution_count": null
  },
  {
   "cell_type": "code",
   "id": "b6291fc521566c83",
   "metadata": {},
   "source": [
    "bm = ada.Beam('bm1', (0,0,0), (5,0,0), 'IPE300')\n",
    "fem = bm.to_fem_obj(0.05, \"solid\")\n",
    "fem.show()"
   ],
   "outputs": [],
   "execution_count": null
  },
  {
   "metadata": {},
   "cell_type": "code",
   "source": [
    "a = ada.Assembly() / [ada.Part(\"MyPart\", fem=fem) / bm]\n",
    "\n",
    "# Create a Static Analysis Step with a Gravity load (multiplied with 800 to get deformation)\n",
    "step = a.fem.add_step(ada.fem.StepImplicitStatic(\"gravity\", nl_geom=True, init_incr=100.0, total_time=100.0))\n",
    "step.add_load(ada.fem.LoadGravity(\"grav\", -9.81 * 800))\n",
    "\n",
    "nodes = bm.bbox().sides.get([\"front\", \"back\"], return_fem_nodes=True)\n",
    "a.fem.add_bc(ada.fem.Bc(\"Fixed\", ada.fem.FemSet(\"bc_nodes\", nodes), [1, 2, 3]))"
   ],
   "id": "fb7263f3d583b5be",
   "outputs": [],
   "execution_count": null
  },
  {
   "metadata": {},
   "cell_type": "markdown",
   "source": "Note! Visualization of the static analysis steps are not yet supported.",
   "id": "5d2379c17d8052d4"
  },
  {
   "metadata": {},
   "cell_type": "code",
   "source": [
    "result = a.to_fem('my_ss_static_beam', 'code_aster', execute=True, overwrite=True)\n",
    "result.show()"
   ],
   "id": "267a78d121a4a8c0",
   "outputs": [],
   "execution_count": null
  },
  {
   "metadata": {},
   "cell_type": "code",
   "source": "result",
   "id": "24627b74a637e0ee",
   "outputs": [],
   "execution_count": null
  }
 ],
 "metadata": {
  "kernelspec": {
   "display_name": "Python 3 (ipykernel)",
   "language": "python",
   "name": "python3"
  },
  "language_info": {
   "codemirror_mode": {
    "name": "ipython",
    "version": 3
   },
   "file_extension": ".py",
   "mimetype": "text/x-python",
   "name": "python",
   "nbconvert_exporter": "python",
   "pygments_lexer": "ipython3",
   "version": "3.12.9"
  }
 },
 "nbformat": 4,
 "nbformat_minor": 5
}
