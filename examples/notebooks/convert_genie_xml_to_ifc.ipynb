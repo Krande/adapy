{
 "cells": [
  {
   "cell_type": "markdown",
   "source": [
    "# Convert FEM models"
   ],
   "metadata": {
    "collapsed": false
   }
  },
  {
   "cell_type": "code",
   "execution_count": 1,
   "metadata": {
    "collapsed": true
   },
   "outputs": [],
   "source": [
    "# Run this first! :)\n",
    "import ada"
   ]
  },
  {
   "cell_type": "markdown",
   "source": [
    "## Genie XML to IFC\n",
    "First drag and drop your XML file onto the explorer window to the left next to the \"*.ipynb\" files\n",
    "(notebook files). Then change the name from \"<my_model>\" to whatever the name of your XML file is and what you want the exported IFC to be named."
   ],
   "metadata": {
    "collapsed": false
   }
  },
  {
   "cell_type": "code",
   "execution_count": null,
   "outputs": [],
   "source": [
    "a = ada.from_genie_xml(\"my_model.xml\")\n",
    "a.to_ifc(\"my_model.ifc\")"
   ],
   "metadata": {
    "collapsed": false
   }
  }
 ],
 "metadata": {
  "kernelspec": {
   "display_name": "Python 3",
   "language": "python",
   "name": "python3"
  },
  "language_info": {
   "codemirror_mode": {
    "name": "ipython",
    "version": 2
   },
   "file_extension": ".py",
   "mimetype": "text/x-python",
   "name": "python",
   "nbconvert_exporter": "python",
   "pygments_lexer": "ipython2",
   "version": "2.7.6"
  }
 },
 "nbformat": 4,
 "nbformat_minor": 0
}
