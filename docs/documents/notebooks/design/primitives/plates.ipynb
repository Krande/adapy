{
 "cells": [
  {
   "metadata": {
    "collapsed": true,
    "jupyter": {
     "is_executing": true
    }
   },
   "cell_type": "markdown",
   "source": "# Plates",
   "id": "a9a92a867c7ae643"
  },
  {
   "metadata": {
    "jupyter": {
     "is_executing": true
    }
   },
   "cell_type": "code",
   "source": "import ada",
   "id": "398dba209019acd0",
   "outputs": [],
   "execution_count": null
  },
  {
   "metadata": {},
   "cell_type": "code",
   "outputs": [],
   "execution_count": null,
   "source": [
    "pl = ada.Plate('pl1', [(0,0), (1,0), (1,1), (0,1)], 0.01)\n",
    "pl.show()"
   ],
   "id": "3ecfffe651b0a10"
  },
  {
   "metadata": {},
   "cell_type": "markdown",
   "source": "## Rounded edges",
   "id": "dc39a2c521bed72c"
  },
  {
   "metadata": {},
   "cell_type": "code",
   "outputs": [],
   "execution_count": null,
   "source": [
    "pl_rounded = ada.Plate('pl1_rounded', [(0,0,0.2), (1,0,0.2), (1,1,0.2), (0,1,0.2)], 0.01, origin=(0,0,0.5))\n",
    "(ada.Part('MyPart') / (pl, pl_rounded)).show()"
   ],
   "id": "54cacfdfcb4e05a6"
  }
 ],
 "metadata": {
  "kernelspec": {
   "display_name": "Python 3",
   "language": "python",
   "name": "python3"
  },
  "language_info": {
   "codemirror_mode": {
    "name": "ipython",
    "version": 2
   },
   "file_extension": ".py",
   "mimetype": "text/x-python",
   "name": "python",
   "nbconvert_exporter": "python",
   "pygments_lexer": "ipython2",
   "version": "2.7.6"
  }
 },
 "nbformat": 4,
 "nbformat_minor": 5
}
