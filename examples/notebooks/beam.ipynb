{
 "cells": [
  {
   "cell_type": "code",
   "id": "initial_id",
   "metadata": {},
   "source": [
    "import ada"
   ],
   "outputs": [],
   "execution_count": null
  },
  {
   "cell_type": "code",
   "id": "30bd99f29d581872",
   "metadata": {},
   "source": [
    "bm = ada.Beam('bm1', (0,0,0), (1,0,0), 'IPE300')\n",
    "bm.show(unique_viewer_id=350)"
   ],
   "outputs": [],
   "execution_count": null
  },
  {
   "cell_type": "code",
   "id": "d28bbc15-b248-4758-98c8-32ff841855e6",
   "metadata": {},
   "source": [
    "bm = ada.Beam('bm1', (0,0,0), (3,0,0), 'IPE300')\n",
    "bm.show(unique_viewer_id=400)"
   ],
   "outputs": [],
   "execution_count": null
  }
 ],
 "metadata": {
  "kernelspec": {
   "display_name": "Python 3 (ipykernel)",
   "language": "python",
   "name": "python3"
  },
  "language_info": {
   "codemirror_mode": {
    "name": "ipython",
    "version": 3
   },
   "file_extension": ".py",
   "mimetype": "text/x-python",
   "name": "python",
   "nbconvert_exporter": "python",
   "pygments_lexer": "ipython3",
   "version": "3.12.6"
  }
 },
 "nbformat": 4,
 "nbformat_minor": 5
}
