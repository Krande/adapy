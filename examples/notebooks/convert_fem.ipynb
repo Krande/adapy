{
 "cells": [
  {
   "cell_type": "markdown",
   "source": [
    "# Convert FEM models"
   ],
   "metadata": {
    "collapsed": false,
    "pycharm": {
     "name": "#%% md\n"
    }
   }
  },
  {
   "cell_type": "code",
   "execution_count": null,
   "metadata": {
    "collapsed": true,
    "pycharm": {
     "name": "#%%\n"
    }
   },
   "outputs": [],
   "source": [
    "import ada"
   ]
  },
  {
   "cell_type": "markdown",
   "source": [
    "## Sesam FEM to Abaqus inp and Code Aster\n",
    "First drag and drop your FEM file onto the explorer window to the left next to the \"convert_fem.ipynb\"\n",
    "notebook. Then run the next cell (change the \"T1.FEM\" name to whatever the name of your FEM file is).\n",
    "\n",
    "In addition to Sesam FEM models you can also import\n",
    "Abaqus/Calculix (.inp) and Code Aster (.med)."
   ],
   "metadata": {
    "collapsed": false,
    "pycharm": {
     "name": "#%% md\n"
    }
   }
  },
  {
   "cell_type": "code",
   "execution_count": null,
   "outputs": [],
   "source": [
    "a = ada.from_fem(\"T1.FEM\")\n",
    "a.to_fem(\"MyAbaqusModel\", \"abaqus\", make_zip_file=True, overwrite=True)\n",
    "a.to_fem(\"MyCodeAsterModel\", \"code_aster\", make_zip_file=True, overwrite=True)"
   ],
   "metadata": {
    "collapsed": false,
    "pycharm": {
     "name": "#%%\n"
    }
   }
  }
 ],
 "metadata": {
  "kernelspec": {
   "display_name": "Python 3",
   "language": "python",
   "name": "python3"
  },
  "language_info": {
   "codemirror_mode": {
    "name": "ipython",
    "version": 2
   },
   "file_extension": ".py",
   "mimetype": "text/x-python",
   "name": "python",
   "nbconvert_exporter": "python",
   "pygments_lexer": "ipython2",
   "version": "2.7.6"
  }
 },
 "nbformat": 4,
 "nbformat_minor": 0
}