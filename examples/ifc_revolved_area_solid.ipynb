{
 "cells": [
  {
   "cell_type": "markdown",
   "metadata": {},
   "source": [
    "# Understanding IfcRevolvedAreaSolid\n",
    "\n"
   ]
  },
  {
   "cell_type": "code",
   "execution_count": null,
   "metadata": {},
   "outputs": [],
   "source": [
    "from dataclasses import dataclass\n",
    "\n",
    "import numpy as np\n",
    "\n",
    "import ada\n",
    "from ada.config import Settings\n",
    "from ada.core.constants import X, Y, Z, O\n",
    "from ada.core.curve_utils import get_center_from_3_points_and_radius, CurveData\n",
    "from ada.core.vector_utils import unit_vector, normal_to_points_in_plane, transform3d, EquationOfPlane, calc_yvec, Plane\n",
    "from ada.occ.utils import make_eq_plane_object, make_ori_vector\n",
    "\n",
    "Settings.make_param_elbows = True"
   ]
  },
  {
   "cell_type": "code",
   "execution_count": null,
   "metadata": {},
   "outputs": [],
   "source": [
    "def pipe_w_multiple_bends() -> ada.Assembly:\n",
    "    z = 3.2\n",
    "    y0 = -200e-3\n",
    "    x0 = -y0\n",
    "    coords = [\n",
    "        (0, y0, z),\n",
    "        (5 + x0, y0, z),\n",
    "        (5 + x0, y0 + 5, z),\n",
    "        (10, y0 + 5, z + 2),\n",
    "        (10, y0 + 5, z + 10),\n",
    "    ]\n",
    "    pipe1 = ada.Pipe(\n",
    "        \"Pipe1\",\n",
    "        coords,\n",
    "        ada.Section(\"PSec\", \"PIPE\", r=0.10, wt=5e-3),\n",
    "    )\n",
    "\n",
    "    return ada.Assembly('TestModel') / ada.Part('TestSite') /  pipe1"
   ]
  },
  {
   "cell_type": "code",
   "execution_count": null,
   "metadata": {},
   "outputs": [],
   "source": [
    "@dataclass\n",
    "class SegData:\n",
    "    eqp: EquationOfPlane\n",
    "    extr_start_point: np.ndarray\n",
    "    arc_curve: CurveData\n",
    "    abs_coord: np.ndarray\n",
    "\n",
    "\n",
    "def evaluate_segment(pipe_elbow: ada.PipeSegElbow, plane_name: str, make_revolve_p_as_vector=False):\n",
    "    xvec1 = unit_vector(pipe_elbow.xvec1)\n",
    "\n",
    "    p1, p2, p3 = pipe_elbow.p1.p, pipe_elbow.p2.p, pipe_elbow.p3.p\n",
    "    normal = normal_to_points_in_plane([p1, p2, p3])\n",
    "\n",
    "    cd = get_center_from_3_points_and_radius(p1, p2, p3, pipe_elbow.bend_radius)\n",
    "    extrusion_start_p = pipe_elbow.arc_seg.p1\n",
    "    delta = cd.center - extrusion_start_p\n",
    "\n",
    "    yvec = calc_yvec(xvec1, normal)\n",
    "    global_csys = (X, Y, Z)\n",
    "    new_csys = (normal, yvec, xvec1)\n",
    "\n",
    "    n_tra, diff_tra = transform3d(global_csys, new_csys, O, [normal, delta])\n",
    "\n",
    "    # Calculate back the transformed coordinate diff_tra_norm, which is defined in a local coordinate system \"new_csys\"\n",
    "    abs_coord = transform3d(new_csys, global_csys, O, [diff_tra])[0] + extrusion_start_p\n",
    "\n",
    "    # Create a plane object representing the surface of the object representing the basis for revolution\n",
    "    eqpn = EquationOfPlane(extrusion_start_p, normal=xvec1, yvec=normal)\n",
    "    plane_part = make_eq_plane_object(plane_name, eqpn, plane=Plane.XY)\n",
    "    if make_revolve_p_as_vector:\n",
    "        ori_vec_model = make_ori_vector(name=f'rotation_axis_center_{plane_name}', origin=abs_coord, csys=new_csys)\n",
    "        plane_part.add_part(ori_vec_model)\n",
    "    else:\n",
    "        plane_part.add_shape(ada.PrimSphere(f'rotation_axis_center_{plane_name}', abs_coord, radius=0.03))\n",
    "\n",
    "    if eqpn.is_point_in_plane(abs_coord) is False:\n",
    "        print(f'Point for \"{plane_name}\" is not in XY-plane')\n",
    "        diff = abs_coord - extrusion_start_p\n",
    "        dist = diff.dot(eqpn.normal)\n",
    "        projected_point = abs_coord - dist*eqpn.normal\n",
    "        # new_p = transform3d(global_csys, new_csys, O, [projected_point-extrusion_start_p])[0]\n",
    "        # print(new_p, diff_tra)\n",
    "        plane_part.add_shape(ada.PrimSphere(f'projected_point_{plane_name}', projected_point, radius=0.03))\n",
    "\n",
    "    a.add_part(plane_part, overwrite=True)\n",
    "\n",
    "    return SegData(eqpn, extrusion_start_p, cd, abs_coord)"
   ]
  },
  {
   "cell_type": "code",
   "execution_count": null,
   "metadata": {},
   "outputs": [],
   "source": [
    "# Create a visualization of the 3 planes and axes that make up the basis for each revolved geometry operation\n",
    "\n",
    "a = pipe_w_multiple_bends()\n",
    "pipe = list(a.get_all_physical_objects())[0]\n",
    "pipe_bends = list(filter(lambda x: isinstance(x, ada.PipeSegElbow), pipe.segments))\n",
    "\n",
    "in_plane_pipe_bend = pipe_bends[0]\n",
    "out_of_plane_pipe_bend = pipe_bends[1]\n",
    "out_of_plane_pipe_bend2 = pipe_bends[2]\n",
    "\n",
    "in_plane_data = evaluate_segment(in_plane_pipe_bend, \"InPlane\")\n",
    "out_of_plane1_data = evaluate_segment(out_of_plane_pipe_bend, \"OutOfPlane1\")\n",
    "out_of_plane2_data = evaluate_segment(out_of_plane_pipe_bend2, \"OutOfPlane2\")\n",
    "\n",
    "a.to_ifc('temp/test.ifc')"
   ]
  },
  {
   "cell_type": "code",
   "execution_count": null,
   "metadata": {},
   "outputs": [],
   "source": [
    "# Visualize rotation points and XY-planes of the revolve surfaces in your jupyter notebook\n",
    "a"
   ]
  },
  {
   "cell_type": "markdown",
   "metadata": {},
   "source": [
    "## In-plane example"
   ]
  },
  {
   "cell_type": "code",
   "execution_count": null,
   "metadata": {},
   "outputs": [],
   "source": [
    "curr_data = in_plane_data\n",
    "\n",
    "diff = curr_data.abs_coord - curr_data.extr_start_point\n",
    "print(diff, curr_data.eqp.normal)\n",
    "diff.dot(curr_data.eqp.normal)"
   ]
  },
  {
   "cell_type": "markdown",
   "metadata": {},
   "source": [
    "## Out-of-plane no.1 example"
   ]
  },
  {
   "cell_type": "code",
   "execution_count": null,
   "metadata": {},
   "outputs": [],
   "source": [
    "curr_data = out_of_plane1_data\n",
    "\n",
    "diff = curr_data.abs_coord - curr_data.extr_start_point\n",
    "print(diff, curr_data.eqp.normal)\n",
    "is_point_on_plane = curr_data.eqp.is_point_in_plane(curr_data.abs_coord)\n",
    "print(is_point_on_plane)\n",
    "if is_point_on_plane is False:\n",
    "    print('Point is not in XY-plane')\n",
    "    dist = diff.dot(curr_data.eqp.normal)\n",
    "    projected_point = curr_data.abs_coord - dist*curr_data.eqp.normal\n",
    "    print(projected_point)"
   ]
  },
  {
   "cell_type": "markdown",
   "metadata": {},
   "source": [
    "## Out-of-plane no.2 example"
   ]
  },
  {
   "cell_type": "code",
   "execution_count": null,
   "metadata": {},
   "outputs": [],
   "source": [
    "curr_data = out_of_plane2_data\n",
    "\n",
    "diff = curr_data.abs_coord - curr_data.extr_start_point\n",
    "print(diff, curr_data.eqp.normal)\n",
    "curr_data.eqp.is_point_in_plane(curr_data.arc_curve.center)\n",
    "diff.dot(curr_data.eqp.normal)"
   ]
  },
  {
   "cell_type": "code",
   "execution_count": null,
   "outputs": [],
   "source": [],
   "metadata": {
    "collapsed": false
   }
  }
 ],
 "metadata": {
  "kernelspec": {
   "display_name": "Python 3 (ipykernel)",
   "language": "python",
   "name": "python3"
  },
  "language_info": {
   "codemirror_mode": {
    "name": "ipython",
    "version": 3
   },
   "file_extension": ".py",
   "mimetype": "text/x-python",
   "name": "python",
   "nbconvert_exporter": "python",
   "pygments_lexer": "ipython3",
   "version": "3.10.4"
  }
 },
 "nbformat": 4,
 "nbformat_minor": 1
}
