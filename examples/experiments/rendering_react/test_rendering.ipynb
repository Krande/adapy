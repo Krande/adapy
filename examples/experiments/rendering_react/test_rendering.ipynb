{
 "cells": [
  {
   "cell_type": "code",
   "execution_count": 1,
   "id": "58e1da18-7708-475a-9099-456a2d9a082c",
   "metadata": {
    "ExecuteTime": {
     "end_time": "2024-01-02T09:18:35.090604100Z",
     "start_time": "2024-01-02T09:18:35.076014100Z"
    }
   },
   "outputs": [],
   "source": [
    "import ada\n",
    "from IPython.display import IFrame"
   ]
  },
  {
   "cell_type": "code",
   "execution_count": 2,
   "id": "7526d89c-2ffa-41d4-afc8-4f0d6faaf142",
   "metadata": {},
   "outputs": [
    {
     "data": {
      "text/html": [
       "\n",
       "        <iframe\n",
       "            width=\"100%\"\n",
       "            height=\"500\"\n",
       "            src=\"./dist/index.html\"\n",
       "            frameborder=\"0\"\n",
       "            allowfullscreen\n",
       "            \n",
       "        ></iframe>\n",
       "        "
      ],
      "text/plain": [
       "<IPython.lib.display.IFrame at 0x258af8d5010>"
      ]
     },
     "execution_count": 2,
     "metadata": {},
     "output_type": "execute_result"
    }
   ],
   "source": [
    "IFrame(src='./dist/index.html', width=\"100%\", height=500)"
   ]
  },
  {
   "cell_type": "code",
   "execution_count": 3,
   "id": "bb8c1c03-8512-491e-96d1-4adaca1c3d1b",
   "metadata": {},
   "outputs": [
    {
     "name": "stderr",
     "output_type": "stream",
     "text": [
      "No stream support: No module named 'lark'\n"
     ]
    }
   ],
   "source": [
    "bm1 = ada.Beam(\"MyBm\", (0, 0, 0), (1, 0, 0), 'IPE300', color='red')\n",
    "bm2 = ada.Beam(\"MyBm2\", (0, 1, 0), (1, 1, 0), 'IPE300', color='green')\n",
    "a = ada.Assembly() / (ada.Part(\"MyPart\") / [bm1, bm2])\n",
    "b = ada.Assembly()\n",
    "b.fem = a.to_fem_obj(0.1, 'solid')\n",
    "b.to_viewer()"
   ]
  }
 ],
 "metadata": {
  "kernelspec": {
   "display_name": "Python 3 (ipykernel)",
   "language": "python",
   "name": "python3"
  },
  "language_info": {
   "codemirror_mode": {
    "name": "ipython",
    "version": 3
   },
   "file_extension": ".py",
   "mimetype": "text/x-python",
   "name": "python",
   "nbconvert_exporter": "python",
   "pygments_lexer": "ipython3",
   "version": "3.12.0"
  }
 },
 "nbformat": 4,
 "nbformat_minor": 5
}
